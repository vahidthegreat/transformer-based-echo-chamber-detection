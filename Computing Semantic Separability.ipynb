{
 "cells": [
  {
   "cell_type": "code",
   "execution_count": 1,
   "metadata": {
    "colab": {
     "base_uri": "https://localhost:8080/"
    },
    "executionInfo": {
     "elapsed": 37995,
     "status": "ok",
     "timestamp": 1700494430241,
     "user": {
      "displayName": "VAHID GHAFOURI",
      "userId": "14892550568966913597"
     },
     "user_tz": -60
    },
    "id": "q-oNeZuJ8O6g",
    "outputId": "3a93c766-79d3-4c58-8de9-c167ec7a2343"
   },
   "outputs": [
    {
     "name": "stdout",
     "output_type": "stream",
     "text": [
      "Collecting ipython-autotime\n",
      "  Downloading ipython_autotime-0.3.2-py2.py3-none-any.whl (7.0 kB)\n",
      "Requirement already satisfied: ipython in /usr/local/lib/python3.10/dist-packages (from ipython-autotime) (7.34.0)\n",
      "Requirement already satisfied: setuptools>=18.5 in /usr/local/lib/python3.10/dist-packages (from ipython->ipython-autotime) (67.7.2)\n",
      "Collecting jedi>=0.16 (from ipython->ipython-autotime)\n",
      "  Downloading jedi-0.19.1-py2.py3-none-any.whl (1.6 MB)\n",
      "\u001b[2K     \u001b[90m━━━━━━━━━━━━━━━━━━━━━━━━━━━━━━━━━━━━━━━━\u001b[0m \u001b[32m1.6/1.6 MB\u001b[0m \u001b[31m14.7 MB/s\u001b[0m eta \u001b[36m0:00:00\u001b[0m\n",
      "\u001b[?25hRequirement already satisfied: decorator in /usr/local/lib/python3.10/dist-packages (from ipython->ipython-autotime) (4.4.2)\n",
      "Requirement already satisfied: pickleshare in /usr/local/lib/python3.10/dist-packages (from ipython->ipython-autotime) (0.7.5)\n",
      "Requirement already satisfied: traitlets>=4.2 in /usr/local/lib/python3.10/dist-packages (from ipython->ipython-autotime) (5.7.1)\n",
      "Requirement already satisfied: prompt-toolkit!=3.0.0,!=3.0.1,<3.1.0,>=2.0.0 in /usr/local/lib/python3.10/dist-packages (from ipython->ipython-autotime) (3.0.41)\n",
      "Requirement already satisfied: pygments in /usr/local/lib/python3.10/dist-packages (from ipython->ipython-autotime) (2.16.1)\n",
      "Requirement already satisfied: backcall in /usr/local/lib/python3.10/dist-packages (from ipython->ipython-autotime) (0.2.0)\n",
      "Requirement already satisfied: matplotlib-inline in /usr/local/lib/python3.10/dist-packages (from ipython->ipython-autotime) (0.1.6)\n",
      "Requirement already satisfied: pexpect>4.3 in /usr/local/lib/python3.10/dist-packages (from ipython->ipython-autotime) (4.8.0)\n",
      "Requirement already satisfied: parso<0.9.0,>=0.8.3 in /usr/local/lib/python3.10/dist-packages (from jedi>=0.16->ipython->ipython-autotime) (0.8.3)\n",
      "Requirement already satisfied: ptyprocess>=0.5 in /usr/local/lib/python3.10/dist-packages (from pexpect>4.3->ipython->ipython-autotime) (0.7.0)\n",
      "Requirement already satisfied: wcwidth in /usr/local/lib/python3.10/dist-packages (from prompt-toolkit!=3.0.0,!=3.0.1,<3.1.0,>=2.0.0->ipython->ipython-autotime) (0.2.10)\n",
      "Installing collected packages: jedi, ipython-autotime\n",
      "Successfully installed ipython-autotime-0.3.2 jedi-0.19.1\n",
      "Collecting pickle5\n",
      "  Downloading pickle5-0.0.11.tar.gz (132 kB)\n",
      "\u001b[2K     \u001b[90m━━━━━━━━━━━━━━━━━━━━━━━━━━━━━━━━━━━━━━━━\u001b[0m \u001b[32m132.1/132.1 kB\u001b[0m \u001b[31m2.3 MB/s\u001b[0m eta \u001b[36m0:00:00\u001b[0m\n",
      "\u001b[?25h  Preparing metadata (setup.py) ... \u001b[?25l\u001b[?25hdone\n",
      "Building wheels for collected packages: pickle5\n",
      "  Building wheel for pickle5 (setup.py) ... \u001b[?25l\u001b[?25hdone\n",
      "  Created wheel for pickle5: filename=pickle5-0.0.11-cp310-cp310-linux_x86_64.whl size=255316 sha256=9297d23bcada6e5981191c1041021fa51e7d79dfd6996beae1aeddc158a59b78\n",
      "  Stored in directory: /root/.cache/pip/wheels/7d/14/ef/4aab19d27fa8e58772be5c71c16add0426acf9e1f64353235c\n",
      "Successfully built pickle5\n",
      "Installing collected packages: pickle5\n",
      "Successfully installed pickle5-0.0.11\n",
      "time: 1.28 s (started: 2023-11-20 15:33:48 +00:00)\n"
     ]
    }
   ],
   "source": [
    "!pip3 install ipython-autotime\n",
    "!pip3 install pickle5\n",
    "# !pip3 install --upgrade nltk\n",
    "%load_ext autotime\n",
    "\n",
    "import pandas as pd\n",
    "import numpy as np\n",
    "my_dir='/YOUR-DIR/'\n",
    "data_path = 'Datasets/users_tweets/'\n",
    "\n",
    "import os\n",
    "from datetime import datetime\n",
    "import pickle5\n",
    "\n",
    "import os\n",
    "\n",
    "# !pip3 install umap-learn\n",
    "\n",
    "from sklearn.linear_model import LogisticRegression\n",
    "from sklearn import svm\n",
    "from sklearn.model_selection import train_test_split\n",
    "from sklearn.metrics import classification_report, confusion_matrix, accuracy_score, f1_score"
   ]
  },
  {
   "cell_type": "code",
   "execution_count": 2,
   "metadata": {
    "colab": {
     "base_uri": "https://localhost:8080/"
    },
    "executionInfo": {
     "elapsed": 22550,
     "status": "ok",
     "timestamp": 1700494452785,
     "user": {
      "displayName": "VAHID GHAFOURI",
      "userId": "14892550568966913597"
     },
     "user_tz": -60
    },
    "id": "XeQD1JF5mF0i",
    "outputId": "f0c0e3b2-914c-4248-aa36-4e6d5900e9ee"
   },
   "outputs": [
    {
     "name": "stdout",
     "output_type": "stream",
     "text": [
      "Mounted at /content/drive\n",
      "time: 22.7 s (started: 2023-11-20 15:33:49 +00:00)\n"
     ]
    }
   ],
   "source": [
    "from google.colab import drive\n",
    "drive.mount('/content/drive')"
   ]
  },
  {
   "cell_type": "markdown",
   "metadata": {
    "id": "8F27ZkktalpU"
   },
   "source": [
    "## Validation on Congresspeople"
   ]
  },
  {
   "cell_type": "code",
   "execution_count": null,
   "metadata": {
    "colab": {
     "base_uri": "https://localhost:8080/"
    },
    "executionInfo": {
     "elapsed": 234,
     "status": "ok",
     "timestamp": 1656497739272,
     "user": {
      "displayName": "Vahid the Great",
      "userId": "03498228001229341906"
     },
     "user_tz": -120
    },
    "id": "UsnAUIWC8Vbo",
    "outputId": "e6a80601-6345-4bd8-d00a-64812abb1f53"
   },
   "outputs": [
    {
     "name": "stdout",
     "output_type": "stream",
     "text": [
      "time: 24.9 ms (started: 2022-06-29 10:15:38 +00:00)\n"
     ]
    }
   ],
   "source": [
    "data_users_df = pd.read_hdf(my_dir+'Datasets/User_lists/congresspeople_list.hdf')\n",
    "data_users_df=data_users_df[data_users_df['average_embedding'].map(len)>2]\n",
    "data_users_df=data_users_df[data_users_df['party']!='I']"
   ]
  },
  {
   "cell_type": "code",
   "execution_count": null,
   "metadata": {
    "colab": {
     "base_uri": "https://localhost:8080/"
    },
    "executionInfo": {
     "elapsed": 408,
     "status": "ok",
     "timestamp": 1657111231508,
     "user": {
      "displayName": "Vahid the Great",
      "userId": "03498228001229341906"
     },
     "user_tz": -120
    },
    "id": "bHKGpTo-8Y7_",
    "outputId": "61f3ce92-ddbc-4d1a-d124-9ae2059f849f"
   },
   "outputs": [
    {
     "name": "stdout",
     "output_type": "stream",
     "text": [
      "              precision    recall  f1-score   support\n",
      "\n",
      "           D       0.95      0.91      0.93       133\n",
      "           R       0.92      0.96      0.94       136\n",
      "\n",
      "    accuracy                           0.93       269\n",
      "   macro avg       0.93      0.93      0.93       269\n",
      "weighted avg       0.93      0.93      0.93       269\n",
      "\n",
      "time: 71.9 ms (started: 2022-07-06 12:40:30 +00:00)\n"
     ]
    }
   ],
   "source": [
    "X_train, X_test, y_train, y_test = train_test_split(data_users_df['average_embedding'], data_users_df['party'],test_size=0.5, random_state=1)\n",
    "# clf = LogisticRegression()\n",
    "clf = svm.LinearSVC()\n",
    "clf.fit(list(X_train), y_train)\n",
    "pred = clf.predict(list(X_test))\n",
    "print(classification_report(y_test, pred))"
   ]
  },
  {
   "cell_type": "code",
   "execution_count": null,
   "metadata": {
    "colab": {
     "base_uri": "https://localhost:8080/",
     "height": 413,
     "referenced_widgets": [
      "7c59ea93e231466593358bd4133b34fb",
      "a9968b2cf0264600b42cd988784641dd",
      "b28e46db8cd44446a187bddd14856f80",
      "460c04213f78479eb127eb411c9fbc1a",
      "737818b8f93546ca953f4d6190bf8cdb",
      "f9405bb70440479797e4ea4c6902b4e4",
      "2936ae029b144e759616ba7596c2eb7a",
      "2f87c6f8062d439cbe21d993cce8e5e4",
      "5f30d9fa36d64a0387176f4eb93a32c0",
      "8a6b80d3094a46398ff6f664aa12a74d",
      "9912e08c1cc543169b6a9cf0414ae8e1",
      "0e4e835f5bf94de2934900efc6adffe7",
      "29246877f29944a9892b2736d6c8525c",
      "c3ba0862e0974f3996579348401a1c12",
      "a86223adeedf4590b06c70549382f578",
      "bc84c0795e3c4aeface0657e227e47e5",
      "c75a10b5b05c4ce9ae6ee5e292106261",
      "20a09180dafb4ec8a7d3eab383d72f21",
      "f596f39794e34153864b62318106b40c",
      "60086498ceaa4237bf47773e5b594005",
      "61b69f01965341b89c61053f808034b8",
      "be8ca97fd7314f128891665d1ceb4f85"
     ]
    },
    "executionInfo": {
     "elapsed": 11024,
     "status": "ok",
     "timestamp": 1656498465555,
     "user": {
      "displayName": "Vahid the Great",
      "userId": "03498228001229341906"
     },
     "user_tz": -120
    },
    "id": "ogNnFmkv9an3",
    "outputId": "388bad98-50b8-4a6f-b091-e97882f37333"
   },
   "outputs": [
    {
     "name": "stdout",
     "output_type": "stream",
     "text": [
      "UMAP(angular_rp_forest=True, metric='cosine', n_components=100, random_state=1, verbose=True)\n",
      "Wed Jun 29 10:27:34 2022 Construct fuzzy simplicial set\n",
      "Wed Jun 29 10:27:34 2022 Finding Nearest Neighbors\n",
      "Wed Jun 29 10:27:34 2022 Finished Nearest Neighbor Search\n",
      "Wed Jun 29 10:27:34 2022 Construct embedding\n"
     ]
    },
    {
     "data": {
      "application/vnd.jupyter.widget-view+json": {
       "model_id": "7c59ea93e231466593358bd4133b34fb",
       "version_major": 2,
       "version_minor": 0
      },
      "text/plain": [
       "Epochs completed:   0%|            0/500 [00:00]"
      ]
     },
     "metadata": {},
     "output_type": "display_data"
    },
    {
     "name": "stdout",
     "output_type": "stream",
     "text": [
      "Wed Jun 29 10:27:38 2022 Finished embedding\n"
     ]
    },
    {
     "data": {
      "application/vnd.jupyter.widget-view+json": {
       "model_id": "0e4e835f5bf94de2934900efc6adffe7",
       "version_major": 2,
       "version_minor": 0
      },
      "text/plain": [
       "Epochs completed:   0%|            0/100 [00:00]"
      ]
     },
     "metadata": {},
     "output_type": "display_data"
    },
    {
     "name": "stdout",
     "output_type": "stream",
     "text": [
      "              precision    recall  f1-score   support\n",
      "\n",
      "           D       0.82      0.94      0.87        81\n",
      "           R       0.92      0.78      0.85        77\n",
      "\n",
      "    accuracy                           0.86       158\n",
      "   macro avg       0.87      0.86      0.86       158\n",
      "weighted avg       0.87      0.86      0.86       158\n",
      "\n",
      "time: 10.9 s (started: 2022-06-29 10:27:34 +00:00)\n"
     ]
    },
    {
     "name": "stderr",
     "output_type": "stream",
     "text": [
      "/usr/local/lib/python3.7/dist-packages/sklearn/svm/_base.py:1208: ConvergenceWarning: Liblinear failed to converge, increase the number of iterations.\n",
      "  ConvergenceWarning,\n"
     ]
    }
   ],
   "source": [
    "X_train, X_test, y_train, y_test = train_test_split(data_users_df['average_embedding'], data_users_df['party'],test_size=0.3, random_state=1)\n",
    "\n",
    "import umap.umap_ as umap\n",
    "manifold = umap.UMAP(n_components=100,\n",
    "                  n_neighbors = 15,\n",
    "                  metric='cosine', verbose=True,\n",
    "                  random_state=1).fit(list(X_train))\n",
    "X_train = manifold.transform(list(X_train))\n",
    "X_test = manifold.transform(list(X_test))\n",
    "\n",
    "clf = LogisticRegression()\n",
    "clf = svm.LinearSVC()\n",
    "clf.fit(list(X_train), y_train)\n",
    "pred = clf.predict(list(X_test))\n",
    "print(classification_report(y_test, pred))"
   ]
  },
  {
   "cell_type": "markdown",
   "metadata": {
    "id": "6ogQPAoAbEjb"
   },
   "source": [
    "## Pairwise Separability for Hashtag Users"
   ]
  },
  {
   "cell_type": "code",
   "execution_count": null,
   "metadata": {
    "colab": {
     "base_uri": "https://localhost:8080/"
    },
    "executionInfo": {
     "elapsed": 17270,
     "status": "ok",
     "timestamp": 1699357415871,
     "user": {
      "displayName": "VAHID GHAFOURI",
      "userId": "14892550568966913597"
     },
     "user_tz": -60
    },
    "id": "xk1-PCgStzfr",
    "outputId": "16bbf00d-b748-4a8b-e0cf-c69a15819e80"
   },
   "outputs": [
    {
     "name": "stdout",
     "output_type": "stream",
     "text": [
      "Mounted at /content/drive\n",
      "time: 17.6 s (started: 2023-11-07 11:43:17 +00:00)\n"
     ]
    }
   ],
   "source": []
  },
  {
   "cell_type": "code",
   "execution_count": null,
   "metadata": {
    "colab": {
     "base_uri": "https://localhost:8080/"
    },
    "executionInfo": {
     "elapsed": 5520,
     "status": "ok",
     "timestamp": 1659698020899,
     "user": {
      "displayName": "Vahid the Great",
      "userId": "03498228001229341906"
     },
     "user_tz": -120
    },
    "id": "jTLhtvLnbOE7",
    "outputId": "5718490f-adb0-449f-b5d7-3b13122fc607"
   },
   "outputs": [
    {
     "data": {
      "text/plain": [
       "Anti-Gun            1500\n",
       "Pro-Abortion        1500\n",
       "Pro-Gun             1500\n",
       "StandWithUkraine    1500\n",
       "Anti-Abortion        729\n",
       "Name: hashtag, dtype: int64"
      ]
     },
     "execution_count": 6,
     "metadata": {},
     "output_type": "execute_result"
    },
    {
     "name": "stdout",
     "output_type": "stream",
     "text": [
      "time: 5.47 s (started: 2022-08-05 11:13:34 +00:00)\n"
     ]
    }
   ],
   "source": [
    "from pandas.core.common import random_state\n",
    "user_list_df = pd.read_hdf(my_dir+'Datasets/User_lists/hashtag_users_list.hdf')\n",
    "user_list_df_=user_list_df[user_list_df['average_embedding'].map(len)>2]\n",
    "\n",
    "user_list_df__=user_list_df_[user_list_df_['hashtag']!='Anti-Abortion'].groupby('hashtag', group_keys=False).apply(lambda x: x.sample(1500,random_state=1))\n",
    "user_list_df_=pd.concat([user_list_df__,user_list_df_[user_list_df_['hashtag']=='Anti-Abortion']])\n",
    "\n",
    "user_list_df_['hashtag'].value_counts()"
   ]
  },
  {
   "cell_type": "code",
   "execution_count": null,
   "metadata": {
    "colab": {
     "base_uri": "https://localhost:8080/"
    },
    "executionInfo": {
     "elapsed": 220,
     "status": "ok",
     "timestamp": 1656950973692,
     "user": {
      "displayName": "Vahid the Great",
      "userId": "03498228001229341906"
     },
     "user_tz": -120
    },
    "id": "et7x20vAkdtJ",
    "outputId": "0942c14d-081c-4a90-b21a-b335b4cd6fda"
   },
   "outputs": [
    {
     "data": {
      "text/plain": [
       "Anti-Gun            5089\n",
       "Pro-Abortion        3793\n",
       "StandWithUkraine    2989\n",
       "Pro-Gun             1909\n",
       "Anti-Abortion        729\n",
       "Name: hashtag, dtype: int64"
      ]
     },
     "execution_count": 5,
     "metadata": {},
     "output_type": "execute_result"
    },
    {
     "name": "stdout",
     "output_type": "stream",
     "text": [
      "time: 24.9 ms (started: 2022-07-04 16:09:33 +00:00)\n"
     ]
    }
   ],
   "source": [
    "user_list_df[user_list_df['average_embedding'].map(len)>2]['hashtag'].value_counts()"
   ]
  },
  {
   "cell_type": "code",
   "execution_count": null,
   "metadata": {
    "colab": {
     "base_uri": "https://localhost:8080/"
    },
    "executionInfo": {
     "elapsed": 230,
     "status": "ok",
     "timestamp": 1659698030064,
     "user": {
      "displayName": "Vahid the Great",
      "userId": "03498228001229341906"
     },
     "user_tz": -120
    },
    "id": "5841Jc7zebDZ",
    "outputId": "d60b64fd-6707-4157-a01d-44b49d315496"
   },
   "outputs": [
    {
     "data": {
      "text/plain": [
       "[('Pro-Gun', 'StandWithUkraine'),\n",
       " ('Pro-Gun', 'Pro-Abortion'),\n",
       " ('Pro-Gun', 'Anti-Abortion'),\n",
       " ('Pro-Gun', 'Anti-Gun'),\n",
       " ('StandWithUkraine', 'Pro-Abortion'),\n",
       " ('StandWithUkraine', 'Anti-Abortion'),\n",
       " ('StandWithUkraine', 'Anti-Gun'),\n",
       " ('Pro-Abortion', 'Anti-Abortion'),\n",
       " ('Pro-Abortion', 'Anti-Gun'),\n",
       " ('Anti-Abortion', 'Anti-Gun')]"
      ]
     },
     "execution_count": 7,
     "metadata": {},
     "output_type": "execute_result"
    },
    {
     "name": "stdout",
     "output_type": "stream",
     "text": [
      "time: 7.3 ms (started: 2022-08-05 11:13:49 +00:00)\n"
     ]
    }
   ],
   "source": [
    "from itertools import combinations\n",
    "\n",
    "all_pairs = list(combinations(set(user_list_df_['hashtag']), 2))\n",
    "all_pairs"
   ]
  },
  {
   "cell_type": "code",
   "execution_count": null,
   "metadata": {
    "colab": {
     "base_uri": "https://localhost:8080/",
     "height": 624
    },
    "executionInfo": {
     "elapsed": 238,
     "status": "ok",
     "timestamp": 1656954874809,
     "user": {
      "displayName": "Vahid the Great",
      "userId": "03498228001229341906"
     },
     "user_tz": -120
    },
    "id": "UVcQxFGXNH8A",
    "outputId": "e952e2f7-90aa-47d1-fc5b-c3de298eac55"
   },
   "outputs": [
    {
     "data": {
      "text/html": [
       "\n",
       "  <div id=\"df-35cd6e0b-9e1f-4aa2-9b98-184e6172efdd\">\n",
       "    <div class=\"colab-df-container\">\n",
       "      <div>\n",
       "<style scoped>\n",
       "    .dataframe tbody tr th:only-of-type {\n",
       "        vertical-align: middle;\n",
       "    }\n",
       "\n",
       "    .dataframe tbody tr th {\n",
       "        vertical-align: top;\n",
       "    }\n",
       "\n",
       "    .dataframe thead th {\n",
       "        text-align: right;\n",
       "    }\n",
       "</style>\n",
       "<table border=\"1\" class=\"dataframe\">\n",
       "  <thead>\n",
       "    <tr style=\"text-align: right;\">\n",
       "      <th></th>\n",
       "      <th>user_screen_name_old</th>\n",
       "      <th>hashtag</th>\n",
       "      <th>user_id</th>\n",
       "      <th>user_info</th>\n",
       "      <th>average_embedding</th>\n",
       "    </tr>\n",
       "  </thead>\n",
       "  <tbody>\n",
       "    <tr>\n",
       "      <th>0</th>\n",
       "      <td>1215jorge</td>\n",
       "      <td>Pro-Gun</td>\n",
       "      <td>191707978</td>\n",
       "      <td>{'id': 191707978, 'id_str': '191707978', 'name...</td>\n",
       "      <td>[-0.0046667918, 0.05530896, 0.0020495367, 0.00...</td>\n",
       "    </tr>\n",
       "    <tr>\n",
       "      <th>1</th>\n",
       "      <td>125LolaLola</td>\n",
       "      <td>Pro-Gun</td>\n",
       "      <td>37808197</td>\n",
       "      <td>{'id': 37808197, 'id_str': '37808197', 'name':...</td>\n",
       "      <td>[-0.01883486, 0.07484672, 0.0042844554, 0.0088...</td>\n",
       "    </tr>\n",
       "    <tr>\n",
       "      <th>2</th>\n",
       "      <td>1Egetfl</td>\n",
       "      <td>Pro-Gun</td>\n",
       "      <td>833080577582624768</td>\n",
       "      <td>{'id': 833080577582624768, 'id_str': '83308057...</td>\n",
       "      <td>[-0.009108344, 0.063201874, 0.0027614383, 0.00...</td>\n",
       "    </tr>\n",
       "    <tr>\n",
       "      <th>3</th>\n",
       "      <td>45LVNancy</td>\n",
       "      <td>Pro-Gun</td>\n",
       "      <td>1477071867219304449</td>\n",
       "      <td>{'id': 1477071867219304449, 'id_str': '1477071...</td>\n",
       "      <td>[-0.017589265, 0.07834912, 0.0033631946, 0.005...</td>\n",
       "    </tr>\n",
       "    <tr>\n",
       "      <th>4</th>\n",
       "      <td>1libertyboi</td>\n",
       "      <td>Pro-Gun</td>\n",
       "      <td>1150064718758981632</td>\n",
       "      <td>{'id': 1150064718758981632, 'id_str': '1150064...</td>\n",
       "      <td>[-0.014149628, 0.07611318, 0.0047517954, 0.002...</td>\n",
       "    </tr>\n",
       "    <tr>\n",
       "      <th>...</th>\n",
       "      <td>...</td>\n",
       "      <td>...</td>\n",
       "      <td>...</td>\n",
       "      <td>...</td>\n",
       "      <td>...</td>\n",
       "    </tr>\n",
       "    <tr>\n",
       "      <th>21389</th>\n",
       "      <td>AlanJacobson14</td>\n",
       "      <td>StandWithUkraine</td>\n",
       "      <td>946898080170835968</td>\n",
       "      <td>{'id': 946898080170835968, 'id_str': '94689808...</td>\n",
       "      <td>[0]</td>\n",
       "    </tr>\n",
       "    <tr>\n",
       "      <th>21390</th>\n",
       "      <td>edwards_lill</td>\n",
       "      <td>StandWithUkraine</td>\n",
       "      <td>1134106780366180352</td>\n",
       "      <td>{'id': 1134106780366180352, 'id_str': '1134106...</td>\n",
       "      <td>[-0.019277696, 0.07905936, 0.005222643, 0.0037...</td>\n",
       "    </tr>\n",
       "    <tr>\n",
       "      <th>21391</th>\n",
       "      <td>MrsNDpendent</td>\n",
       "      <td>StandWithUkraine</td>\n",
       "      <td>22256226</td>\n",
       "      <td>{'id': 22256226, 'id_str': '22256226', 'name':...</td>\n",
       "      <td>[-0.005334577, 0.07084483, 0.005182821, -0.001...</td>\n",
       "    </tr>\n",
       "    <tr>\n",
       "      <th>21393</th>\n",
       "      <td>sme1965</td>\n",
       "      <td>StandWithUkraine</td>\n",
       "      <td>793818497713213440</td>\n",
       "      <td>{'id': 793818497713213440, 'id_str': '79381849...</td>\n",
       "      <td>[0.0077153877, 0.039057262, -0.010893657, 0.01...</td>\n",
       "    </tr>\n",
       "    <tr>\n",
       "      <th>21394</th>\n",
       "      <td>blessmaster</td>\n",
       "      <td>StandWithUkraine</td>\n",
       "      <td>212674817</td>\n",
       "      <td>{'id': 212674817, 'id_str': '212674817', 'name...</td>\n",
       "      <td>[0]</td>\n",
       "    </tr>\n",
       "  </tbody>\n",
       "</table>\n",
       "<p>20427 rows × 5 columns</p>\n",
       "</div>\n",
       "      <button class=\"colab-df-convert\" onclick=\"convertToInteractive('df-35cd6e0b-9e1f-4aa2-9b98-184e6172efdd')\"\n",
       "              title=\"Convert this dataframe to an interactive table.\"\n",
       "              style=\"display:none;\">\n",
       "        \n",
       "  <svg xmlns=\"http://www.w3.org/2000/svg\" height=\"24px\"viewBox=\"0 0 24 24\"\n",
       "       width=\"24px\">\n",
       "    <path d=\"M0 0h24v24H0V0z\" fill=\"none\"/>\n",
       "    <path d=\"M18.56 5.44l.94 2.06.94-2.06 2.06-.94-2.06-.94-.94-2.06-.94 2.06-2.06.94zm-11 1L8.5 8.5l.94-2.06 2.06-.94-2.06-.94L8.5 2.5l-.94 2.06-2.06.94zm10 10l.94 2.06.94-2.06 2.06-.94-2.06-.94-.94-2.06-.94 2.06-2.06.94z\"/><path d=\"M17.41 7.96l-1.37-1.37c-.4-.4-.92-.59-1.43-.59-.52 0-1.04.2-1.43.59L10.3 9.45l-7.72 7.72c-.78.78-.78 2.05 0 2.83L4 21.41c.39.39.9.59 1.41.59.51 0 1.02-.2 1.41-.59l7.78-7.78 2.81-2.81c.8-.78.8-2.07 0-2.86zM5.41 20L4 18.59l7.72-7.72 1.47 1.35L5.41 20z\"/>\n",
       "  </svg>\n",
       "      </button>\n",
       "      \n",
       "  <style>\n",
       "    .colab-df-container {\n",
       "      display:flex;\n",
       "      flex-wrap:wrap;\n",
       "      gap: 12px;\n",
       "    }\n",
       "\n",
       "    .colab-df-convert {\n",
       "      background-color: #E8F0FE;\n",
       "      border: none;\n",
       "      border-radius: 50%;\n",
       "      cursor: pointer;\n",
       "      display: none;\n",
       "      fill: #1967D2;\n",
       "      height: 32px;\n",
       "      padding: 0 0 0 0;\n",
       "      width: 32px;\n",
       "    }\n",
       "\n",
       "    .colab-df-convert:hover {\n",
       "      background-color: #E2EBFA;\n",
       "      box-shadow: 0px 1px 2px rgba(60, 64, 67, 0.3), 0px 1px 3px 1px rgba(60, 64, 67, 0.15);\n",
       "      fill: #174EA6;\n",
       "    }\n",
       "\n",
       "    [theme=dark] .colab-df-convert {\n",
       "      background-color: #3B4455;\n",
       "      fill: #D2E3FC;\n",
       "    }\n",
       "\n",
       "    [theme=dark] .colab-df-convert:hover {\n",
       "      background-color: #434B5C;\n",
       "      box-shadow: 0px 1px 3px 1px rgba(0, 0, 0, 0.15);\n",
       "      filter: drop-shadow(0px 1px 2px rgba(0, 0, 0, 0.3));\n",
       "      fill: #FFFFFF;\n",
       "    }\n",
       "  </style>\n",
       "\n",
       "      <script>\n",
       "        const buttonEl =\n",
       "          document.querySelector('#df-35cd6e0b-9e1f-4aa2-9b98-184e6172efdd button.colab-df-convert');\n",
       "        buttonEl.style.display =\n",
       "          google.colab.kernel.accessAllowed ? 'block' : 'none';\n",
       "\n",
       "        async function convertToInteractive(key) {\n",
       "          const element = document.querySelector('#df-35cd6e0b-9e1f-4aa2-9b98-184e6172efdd');\n",
       "          const dataTable =\n",
       "            await google.colab.kernel.invokeFunction('convertToInteractive',\n",
       "                                                     [key], {});\n",
       "          if (!dataTable) return;\n",
       "\n",
       "          const docLinkHtml = 'Like what you see? Visit the ' +\n",
       "            '<a target=\"_blank\" href=https://colab.research.google.com/notebooks/data_table.ipynb>data table notebook</a>'\n",
       "            + ' to learn more about interactive tables.';\n",
       "          element.innerHTML = '';\n",
       "          dataTable['output_type'] = 'display_data';\n",
       "          await google.colab.output.renderOutput(dataTable, element);\n",
       "          const docLink = document.createElement('div');\n",
       "          docLink.innerHTML = docLinkHtml;\n",
       "          element.appendChild(docLink);\n",
       "        }\n",
       "      </script>\n",
       "    </div>\n",
       "  </div>\n",
       "  "
      ],
      "text/plain": [
       "      user_screen_name_old           hashtag              user_id  \\\n",
       "0                1215jorge           Pro-Gun            191707978   \n",
       "1              125LolaLola           Pro-Gun             37808197   \n",
       "2                  1Egetfl           Pro-Gun   833080577582624768   \n",
       "3                45LVNancy           Pro-Gun  1477071867219304449   \n",
       "4              1libertyboi           Pro-Gun  1150064718758981632   \n",
       "...                    ...               ...                  ...   \n",
       "21389       AlanJacobson14  StandWithUkraine   946898080170835968   \n",
       "21390         edwards_lill  StandWithUkraine  1134106780366180352   \n",
       "21391         MrsNDpendent  StandWithUkraine             22256226   \n",
       "21393              sme1965  StandWithUkraine   793818497713213440   \n",
       "21394          blessmaster  StandWithUkraine            212674817   \n",
       "\n",
       "                                               user_info  \\\n",
       "0      {'id': 191707978, 'id_str': '191707978', 'name...   \n",
       "1      {'id': 37808197, 'id_str': '37808197', 'name':...   \n",
       "2      {'id': 833080577582624768, 'id_str': '83308057...   \n",
       "3      {'id': 1477071867219304449, 'id_str': '1477071...   \n",
       "4      {'id': 1150064718758981632, 'id_str': '1150064...   \n",
       "...                                                  ...   \n",
       "21389  {'id': 946898080170835968, 'id_str': '94689808...   \n",
       "21390  {'id': 1134106780366180352, 'id_str': '1134106...   \n",
       "21391  {'id': 22256226, 'id_str': '22256226', 'name':...   \n",
       "21393  {'id': 793818497713213440, 'id_str': '79381849...   \n",
       "21394  {'id': 212674817, 'id_str': '212674817', 'name...   \n",
       "\n",
       "                                       average_embedding  \n",
       "0      [-0.0046667918, 0.05530896, 0.0020495367, 0.00...  \n",
       "1      [-0.01883486, 0.07484672, 0.0042844554, 0.0088...  \n",
       "2      [-0.009108344, 0.063201874, 0.0027614383, 0.00...  \n",
       "3      [-0.017589265, 0.07834912, 0.0033631946, 0.005...  \n",
       "4      [-0.014149628, 0.07611318, 0.0047517954, 0.002...  \n",
       "...                                                  ...  \n",
       "21389                                                [0]  \n",
       "21390  [-0.019277696, 0.07905936, 0.005222643, 0.0037...  \n",
       "21391  [-0.005334577, 0.07084483, 0.005182821, -0.001...  \n",
       "21393  [0.0077153877, 0.039057262, -0.010893657, 0.01...  \n",
       "21394                                                [0]  \n",
       "\n",
       "[20427 rows x 5 columns]"
      ]
     },
     "execution_count": 12,
     "metadata": {},
     "output_type": "execute_result"
    },
    {
     "name": "stdout",
     "output_type": "stream",
     "text": [
      "time: 58.7 ms (started: 2022-07-04 17:14:34 +00:00)\n"
     ]
    }
   ],
   "source": [
    "user_list_df.drop_duplicates('user_id')"
   ]
  },
  {
   "cell_type": "code",
   "execution_count": null,
   "metadata": {
    "colab": {
     "base_uri": "https://localhost:8080/"
    },
    "executionInfo": {
     "elapsed": 1958,
     "status": "ok",
     "timestamp": 1659698064367,
     "user": {
      "displayName": "Vahid the Great",
      "userId": "03498228001229341906"
     },
     "user_tz": -120
    },
    "id": "Ij1WkKaGc7vL",
    "outputId": "4c17386c-50eb-464a-96dc-6752be79eae3"
   },
   "outputs": [
    {
     "name": "stdout",
     "output_type": "stream",
     "text": [
      "Pro-Gun vs StandWithUkraine   f1_score = 0.8265101902004566\n",
      "Pro-Gun vs Pro-Abortion   f1_score = 0.77484291101214\n",
      "Pro-Gun vs Anti-Abortion   f1_score = 0.6037429532161925\n",
      "Pro-Gun vs Anti-Gun   f1_score = 0.8203553660270078\n",
      "StandWithUkraine vs Pro-Abortion   f1_score = 0.738606853493577\n",
      "StandWithUkraine vs Anti-Abortion   f1_score = 0.8982568896312568\n",
      "StandWithUkraine vs Anti-Gun   f1_score = 0.7661896533102928\n",
      "Pro-Abortion vs Anti-Abortion   f1_score = 0.8676042598626508\n",
      "Pro-Abortion vs Anti-Gun   f1_score = 0.6964970471644689\n",
      "Anti-Abortion vs Anti-Gun   f1_score = 0.9111616244463713\n",
      "time: 1.74 s (started: 2022-08-05 11:14:22 +00:00)\n"
     ]
    }
   ],
   "source": [
    "for x,y in all_pairs:\n",
    "  user_list_df_x = user_list_df_[(user_list_df_['hashtag']==x) | (user_list_df_['hashtag']==y)]\n",
    "  user_list_df_x = user_list_df_x.drop_duplicates('user_id')\n",
    "  X_train, X_test, y_train, y_test = train_test_split(user_list_df_x['average_embedding'], user_list_df_x['hashtag'],test_size=0.5, random_state=1)\n",
    "  # clf = LogisticRegression()\n",
    "  clf = svm.LinearSVC()\n",
    "  clf.fit(list(X_train), y_train)\n",
    "  pred = clf.predict(list(X_test))\n",
    "  f_x = f1_score(y_test, pred, average='macro')\n",
    "  print(f'{x} vs {y}   f1_score = {f_x}')"
   ]
  },
  {
   "cell_type": "markdown",
   "metadata": {
    "id": "NXUeiDILtPH4"
   },
   "source": [
    "## Pairwise Separability for Network Users"
   ]
  },
  {
   "cell_type": "code",
   "execution_count": 3,
   "metadata": {
    "colab": {
     "base_uri": "https://localhost:8080/"
    },
    "executionInfo": {
     "elapsed": 4528,
     "status": "ok",
     "timestamp": 1700494460318,
     "user": {
      "displayName": "VAHID GHAFOURI",
      "userId": "14892550568966913597"
     },
     "user_tz": -60
    },
    "id": "t19UnWvjtPH6",
    "outputId": "1749b91e-e165-4731-a27a-fb3f240757cb"
   },
   "outputs": [
    {
     "data": {
      "text/plain": [
       "0    2096\n",
       "1    1333\n",
       "Name: sxsw, dtype: int64"
      ]
     },
     "execution_count": 3,
     "metadata": {},
     "output_type": "execute_result"
    },
    {
     "name": "stdout",
     "output_type": "stream",
     "text": [
      "time: 4.34 s (started: 2023-11-20 15:34:15 +00:00)\n"
     ]
    }
   ],
   "source": [
    "# choose the topic between the 4\n",
    "\n",
    "# topic = 'abortion'\n",
    "# topic = 'gun'\n",
    "# topic = 'ukraine'\n",
    "topic = 'sxsw'\n",
    "\n",
    "from pandas.core.common import random_state\n",
    "pd.read_hdf(my_dir+f'Datasets/echo_chambers_in_{topic}_dataset.hdf')\n",
    "\n",
    "user_list_df_=user_list_df[user_list_df['average_embedding'].map(len)>2]\n",
    "\n",
    "user_list_df_=user_list_df_.groupby(topic, group_keys=False).apply(lambda x: x.sample(1500,random_state=1))\n",
    "\n",
    "user_list_df_[topic].value_counts()"
   ]
  },
  {
   "cell_type": "code",
   "execution_count": null,
   "metadata": {
    "colab": {
     "base_uri": "https://localhost:8080/"
    },
    "executionInfo": {
     "elapsed": 2,
     "status": "ok",
     "timestamp": 1699359856437,
     "user": {
      "displayName": "VAHID GHAFOURI",
      "userId": "14892550568966913597"
     },
     "user_tz": -60
    },
    "id": "Lb4iNhHitPH7",
    "outputId": "bbd688e0-7e21-4783-cf76-74ce12b71a42"
   },
   "outputs": [
    {
     "name": "stdout",
     "output_type": "stream",
     "text": [
      "0 vs 1   f1_score = 0.8224036174161036\n",
      "time: 187 ms (started: 2023-11-07 12:24:16 +00:00)\n"
     ]
    }
   ],
   "source": [
    "X_train, X_test, y_train, y_test = train_test_split(list(user_list_df_['average_embedding']), user_list_df_[topic],test_size=0.5, random_state=1)\n",
    "# clf = LogisticRegression()\n",
    "clf = svm.LinearSVC()\n",
    "# clf = svm.SVC()\n",
    "\n",
    "\n",
    "clf.fit(list(X_train), y_train)\n",
    "pred = clf.predict(list(X_test))\n",
    "f_x = f1_score(y_test, pred, average='macro')\n",
    "print(f'0 vs 1   f1_score = {f_x}')"
   ]
  },
  {
   "cell_type": "code",
   "execution_count": null,
   "metadata": {
    "colab": {
     "base_uri": "https://localhost:8080/"
    },
    "executionInfo": {
     "elapsed": 4,
     "status": "ok",
     "timestamp": 1699358281258,
     "user": {
      "displayName": "VAHID GHAFOURI",
      "userId": "14892550568966913597"
     },
     "user_tz": -60
    },
    "id": "8oa96Q2tpK3J",
    "outputId": "d4abce87-b36f-4fdf-bb8d-9be697ad806a"
   },
   "outputs": [
    {
     "data": {
      "text/plain": [
       "(1715, 768)"
      ]
     },
     "execution_count": 21,
     "metadata": {},
     "output_type": "execute_result"
    },
    {
     "name": "stdout",
     "output_type": "stream",
     "text": [
      "time: 15.1 ms (started: 2023-11-07 11:58:00 +00:00)\n"
     ]
    }
   ],
   "source": [
    "np.asarray(X_test).shape"
   ]
  },
  {
   "cell_type": "code",
   "execution_count": null,
   "metadata": {
    "colab": {
     "base_uri": "https://localhost:8080/"
    },
    "executionInfo": {
     "elapsed": 243,
     "status": "ok",
     "timestamp": 1699359878287,
     "user": {
      "displayName": "VAHID GHAFOURI",
      "userId": "14892550568966913597"
     },
     "user_tz": -60
    },
    "id": "gs6gQQclmu3p",
    "outputId": "71182365-86b1-4618-d120-17eb595da1e8"
   },
   "outputs": [
    {
     "name": "stdout",
     "output_type": "stream",
     "text": [
      "Weighted Average Distance: 0.45\n",
      "time: 14.7 ms (started: 2023-11-07 12:24:38 +00:00)\n"
     ]
    }
   ],
   "source": [
    "# Get the coefficients and intercept of the hyperplane\n",
    "w = clf.coef_\n",
    "b = clf.intercept_\n",
    "\n",
    "# Calculate distances for all data points\n",
    "distances = np.abs(np.dot(X_test, w.T) + b) / np.linalg.norm(w)\n",
    "normalized_confidence = 1 / (1 + np.exp(-np.abs(clf.decision_function(X_test))))\n",
    "# Predict labels\n",
    "# predicted_labels = clf.predict(X_test)\n",
    "\n",
    "# Assign weights (1 for correctly classified, -1 for misclassified)\n",
    "weights = np.where(pred == y_test, 1, -1)\n",
    "\n",
    "# Calculate the weighted average of distances\n",
    "# weighted_average_distance = np.sum(distances * weights) / np.sum(np.abs(weights))\n",
    "weighted_average_distance = np.sum(normalized_confidence * weights) / np.sum(np.abs(weights))\n",
    "\n",
    "print(f\"Weighted Average Distance: {weighted_average_distance:.2f}\")"
   ]
  },
  {
   "cell_type": "code",
   "execution_count": null,
   "metadata": {
    "colab": {
     "base_uri": "https://localhost:8080/"
    },
    "executionInfo": {
     "elapsed": 232,
     "status": "ok",
     "timestamp": 1699359661034,
     "user": {
      "displayName": "VAHID GHAFOURI",
      "userId": "14892550568966913597"
     },
     "user_tz": -60
    },
    "id": "wYgVDo90s-Wf",
    "outputId": "0df6caa9-ff03-4fe2-f673-1e098f99dc51"
   },
   "outputs": [
    {
     "data": {
      "text/plain": [
       "array([0.65433465, 1.04956195, 0.92916024, ..., 0.77046677, 0.91811852,\n",
       "       1.07541215])"
      ]
     },
     "execution_count": 58,
     "metadata": {},
     "output_type": "execute_result"
    },
    {
     "name": "stdout",
     "output_type": "stream",
     "text": [
      "time: 12.6 ms (started: 2023-11-07 12:21:00 +00:00)\n"
     ]
    }
   ],
   "source": [
    "np.abs(clf.decision_function(X_test))"
   ]
  },
  {
   "cell_type": "code",
   "execution_count": null,
   "metadata": {
    "colab": {
     "base_uri": "https://localhost:8080/"
    },
    "executionInfo": {
     "elapsed": 440,
     "status": "ok",
     "timestamp": 1699359677635,
     "user": {
      "displayName": "VAHID GHAFOURI",
      "userId": "14892550568966913597"
     },
     "user_tz": -60
    },
    "id": "OVYRIKXzub2X",
    "outputId": "1f869314-55df-415d-de28-9b44b6c8ae6a"
   },
   "outputs": [
    {
     "data": {
      "text/plain": [
       "array([0.6579866 , 0.74069077, 0.71690489, ..., 0.68362186, 0.71465859,\n",
       "       0.74562479])"
      ]
     },
     "execution_count": 59,
     "metadata": {},
     "output_type": "execute_result"
    },
    {
     "name": "stdout",
     "output_type": "stream",
     "text": [
      "time: 24.8 ms (started: 2023-11-07 12:21:17 +00:00)\n"
     ]
    }
   ],
   "source": [
    "normalized_confidence = 1 / (1 + np.exp(-np.abs(clf.decision_function(X_test))))\n",
    "normalized_confidence"
   ]
  },
  {
   "cell_type": "code",
   "execution_count": null,
   "metadata": {
    "colab": {
     "base_uri": "https://localhost:8080/"
    },
    "executionInfo": {
     "elapsed": 238,
     "status": "ok",
     "timestamp": 1699359402718,
     "user": {
      "displayName": "VAHID GHAFOURI",
      "userId": "14892550568966913597"
     },
     "user_tz": -60
    },
    "id": "jKjTkOpBtp5z",
    "outputId": "856b7c8d-a514-42b0-c3c3-4657768e67f0"
   },
   "outputs": [
    {
     "data": {
      "text/plain": [
       "array([1, 1, 0, ..., 0, 0, 0])"
      ]
     },
     "execution_count": 52,
     "metadata": {},
     "output_type": "execute_result"
    },
    {
     "name": "stdout",
     "output_type": "stream",
     "text": [
      "time: 7.41 ms (started: 2023-11-07 12:16:42 +00:00)\n"
     ]
    }
   ],
   "source": [
    "pred"
   ]
  },
  {
   "cell_type": "code",
   "execution_count": null,
   "metadata": {
    "colab": {
     "base_uri": "https://localhost:8080/"
    },
    "executionInfo": {
     "elapsed": 240,
     "status": "ok",
     "timestamp": 1699359083773,
     "user": {
      "displayName": "VAHID GHAFOURI",
      "userId": "14892550568966913597"
     },
     "user_tz": -60
    },
    "id": "SwfczfSxsQB_",
    "outputId": "3104e520-cb0f-4609-8054-48129d47f082"
   },
   "outputs": [
    {
     "name": "stdout",
     "output_type": "stream",
     "text": [
      "Overall Separability: 0.11\n",
      "time: 2.02 ms (started: 2023-11-07 12:11:23 +00:00)\n"
     ]
    }
   ],
   "source": [
    "margins = 2 / np.linalg.norm(w)\n",
    "\n",
    "# Compute the overall separability by taking the average or minimum margin\n",
    "overall_separability = np.mean(margins)  # You can also use np.min(margins)\n",
    "\n",
    "print(f\"Overall Separability: {overall_separability:.2f}\")"
   ]
  },
  {
   "cell_type": "markdown",
   "metadata": {
    "id": "tKiQmXn_QwvM"
   },
   "source": [
    "## Chamber-Wise Separability"
   ]
  },
  {
   "cell_type": "code",
   "execution_count": null,
   "metadata": {
    "colab": {
     "base_uri": "https://localhost:8080/"
    },
    "executionInfo": {
     "elapsed": 5,
     "status": "ok",
     "timestamp": 1659461512354,
     "user": {
      "displayName": "Vahid the Great",
      "userId": "03498228001229341906"
     },
     "user_tz": -120
    },
    "id": "U4duqi7DQ1r_",
    "outputId": "7dd6bd66-628e-4009-e8e1-2cab5ae0a6c4"
   },
   "outputs": [
    {
     "data": {
      "text/plain": [
       "[('abortion', 'gun'),\n",
       " ('abortion', 'ukraine'),\n",
       " ('abortion', 'sxsw'),\n",
       " ('gun', 'ukraine'),\n",
       " ('gun', 'sxsw'),\n",
       " ('ukraine', 'sxsw')]"
      ]
     },
     "execution_count": 4,
     "metadata": {},
     "output_type": "execute_result"
    },
    {
     "name": "stdout",
     "output_type": "stream",
     "text": [
      "time: 10.5 ms (started: 2022-08-02 17:31:52 +00:00)\n"
     ]
    }
   ],
   "source": [
    "topics = ['abortion','gun','ukraine','sxsw']\n",
    "\n",
    "from itertools import combinations\n",
    "\n",
    "all_pairs = list(combinations(topics, 2))\n",
    "all_pairs"
   ]
  },
  {
   "cell_type": "code",
   "execution_count": null,
   "metadata": {
    "colab": {
     "base_uri": "https://localhost:8080/"
    },
    "executionInfo": {
     "elapsed": 4,
     "status": "ok",
     "timestamp": 1659461515098,
     "user": {
      "displayName": "Vahid the Great",
      "userId": "03498228001229341906"
     },
     "user_tz": -120
    },
    "id": "nP35GcW9SgAH",
    "outputId": "bea471fd-0812-4d84-803f-2ddfbb5aa9d6"
   },
   "outputs": [
    {
     "name": "stdout",
     "output_type": "stream",
     "text": [
      "time: 1.61 ms (started: 2022-08-02 17:31:55 +00:00)\n"
     ]
    }
   ],
   "source": [
    "import pandas as pd\n",
    "pd.options.mode.chained_assignment = None"
   ]
  },
  {
   "cell_type": "code",
   "execution_count": null,
   "metadata": {
    "colab": {
     "base_uri": "https://localhost:8080/"
    },
    "executionInfo": {
     "elapsed": 14681,
     "status": "ok",
     "timestamp": 1659461895701,
     "user": {
      "displayName": "Vahid the Great",
      "userId": "03498228001229341906"
     },
     "user_tz": -120
    },
    "id": "mtdXrq5yRlHf",
    "outputId": "901a6bde-c94e-44b5-89bf-3574bcf7e17c"
   },
   "outputs": [
    {
     "name": "stdout",
     "output_type": "stream",
     "text": [
      "abortion0 vs gun0   f1_score = 0.7643724988218625\n",
      "abortion1 vs gun1   f1_score = 0.6879201075475321\n",
      "abortion0 vs gun1   f1_score = 0.9139861995635744\n",
      "abortion1 vs gun0   f1_score = 0.9133308680780253\n",
      "abortion0 vs ukraine0   f1_score = 0.8086420878059448\n",
      "abortion1 vs ukraine1   f1_score = 0.7982272504565497\n",
      "abortion0 vs ukraine1   f1_score = 0.9086598060032065\n",
      "abortion1 vs ukraine0   f1_score = 0.8933325748094207\n",
      "abortion0 vs sxsw0   f1_score = 0.8222796311968286\n",
      "abortion1 vs sxsw1   f1_score = 0.9639994239907839\n",
      "abortion0 vs sxsw1   f1_score = 0.9659974460303906\n",
      "abortion1 vs sxsw0   f1_score = 0.9066241702890561\n",
      "gun0 vs ukraine0   f1_score = 0.7697338122870039\n",
      "gun1 vs ukraine1   f1_score = 0.7846446009752939\n",
      "gun0 vs ukraine1   f1_score = 0.9279629889845626\n",
      "gun1 vs ukraine0   f1_score = 0.9113301412184172\n",
      "gun0 vs sxsw0   f1_score = 0.8492464993169399\n",
      "gun1 vs sxsw1   f1_score = 0.9766661585074519\n",
      "gun0 vs sxsw1   f1_score = 0.9699993466524383\n",
      "gun1 vs sxsw0   f1_score = 0.9259973359040925\n",
      "ukraine0 vs sxsw0   f1_score = 0.8476087948440084\n",
      "ukraine1 vs sxsw1   f1_score = 0.9779997555528395\n",
      "ukraine0 vs sxsw1   f1_score = 0.9699999866666609\n",
      "ukraine1 vs sxsw0   f1_score = 0.9433320992323833\n",
      "time: 14.4 s (started: 2022-08-02 17:38:01 +00:00)\n"
     ]
    }
   ],
   "source": [
    "for topic_a, topic_b in all_pairs:\n",
    "  user_list_df_a = pd.read_hdf(my_dir+f'Datasets/echo_chambers_in_{topic_a}_dataset.hdf')\n",
    "  user_list_df_a=user_list_df_a[user_list_df_a['average_embedding'].map(len)>2]\n",
    "  user_list_df_a=user_list_df_a.groupby(topic_a, group_keys=False).apply(lambda x: x.sample(1500,random_state=2))\n",
    "  user_list_df_b = pd.read_hdf(my_dir+f'Datasets/echo_chambers_in_{topic_b}_dataset.hdf')\n",
    "  user_list_df_b=user_list_df_b[user_list_df_b['average_embedding'].map(len)>2]\n",
    "  user_list_df_b=user_list_df_b.groupby(topic_b, group_keys=False).apply(lambda x: x.sample(1500,random_state=2))\n",
    "\n",
    "  for x,y in [(0, 0), (1, 1), (0, 1), (1, 0)]:\n",
    "    user_list_df_a_ = user_list_df_a[user_list_df_a[topic_a]==x]#.rename({topic_a:'chamber'},axis=1)\n",
    "    user_list_df_a_['chamber']=0\n",
    "    user_list_df_b_ = user_list_df_b[user_list_df_b[topic_b]==y]#.rename({topic_b:'chamber'},axis=1)\n",
    "    user_list_df_b_['chamber']=1\n",
    "    user_list_df_x = pd.concat([user_list_df_a_,user_list_df_b_])\n",
    "    X_train, X_test, y_train, y_test = train_test_split(user_list_df_x['average_embedding'], user_list_df_x['chamber'],test_size=0.5, random_state=1)\n",
    "    # clf = LogisticRegression()\n",
    "    clf = svm.LinearSVC()\n",
    "    clf.fit(list(X_train), y_train)\n",
    "    pred = clf.predict(list(X_test))\n",
    "    f_x = f1_score(y_test, pred, average='macro')\n",
    "    print(f'{topic_a}{x} vs {topic_b}{y}   f1_score = {f_x}')"
   ]
  },
  {
   "cell_type": "markdown",
   "metadata": {
    "id": "I-kgMkJDp86g"
   },
   "source": [
    "# Centeroid Distance"
   ]
  },
  {
   "cell_type": "code",
   "execution_count": null,
   "metadata": {
    "colab": {
     "base_uri": "https://localhost:8080/"
    },
    "executionInfo": {
     "elapsed": 232,
     "status": "ok",
     "timestamp": 1659215061642,
     "user": {
      "displayName": "Vahid the Great",
      "userId": "03498228001229341906"
     },
     "user_tz": -120
    },
    "id": "yTwyxGLeplt4",
    "outputId": "0ae24ca1-bba2-4188-d5c9-d9c034a141d2"
   },
   "outputs": [
    {
     "name": "stdout",
     "output_type": "stream",
     "text": [
      "time: 10.3 ms (started: 2022-07-30 21:04:21 +00:00)\n"
     ]
    }
   ],
   "source": [
    "centroids=user_list_df_.groupby(topic)['average_embedding'].mean()"
   ]
  },
  {
   "cell_type": "code",
   "execution_count": null,
   "metadata": {
    "colab": {
     "base_uri": "https://localhost:8080/"
    },
    "executionInfo": {
     "elapsed": 3,
     "status": "ok",
     "timestamp": 1659215062624,
     "user": {
      "displayName": "Vahid the Great",
      "userId": "03498228001229341906"
     },
     "user_tz": -120
    },
    "id": "uUHyYu78qDlw",
    "outputId": "fca3a08b-0c72-4dd0-c949-390f63ad8ccc"
   },
   "outputs": [
    {
     "data": {
      "text/plain": [
       "0.028302669525146484"
      ]
     },
     "execution_count": 14,
     "metadata": {},
     "output_type": "execute_result"
    },
    {
     "name": "stdout",
     "output_type": "stream",
     "text": [
      "time: 10.3 ms (started: 2022-07-30 21:04:22 +00:00)\n"
     ]
    }
   ],
   "source": [
    "from scipy import spatial\n",
    "spatial.distance.cosine(centroids[0], centroids[1])"
   ]
  },
  {
   "cell_type": "code",
   "execution_count": null,
   "metadata": {
    "colab": {
     "base_uri": "https://localhost:8080/"
    },
    "executionInfo": {
     "elapsed": 253,
     "status": "ok",
     "timestamp": 1659214987879,
     "user": {
      "displayName": "Vahid the Great",
      "userId": "03498228001229341906"
     },
     "user_tz": -120
    },
    "id": "z7Ndk7pvq8Vi",
    "outputId": "765cecf8-afe3-48c8-b7ea-3977cc1ad3a2"
   },
   "outputs": [
    {
     "name": "stdout",
     "output_type": "stream",
     "text": [
      "time: 8.09 ms (started: 2022-07-30 21:03:07 +00:00)\n"
     ]
    }
   ],
   "source": [
    "def get_bootstrap_confidence_average(df_x, column_x, confidence_x, sample_size_x):\n",
    "  values=[]\n",
    "  for i in range(1000):\n",
    "    boot_df=df_x.groupby(topic, group_keys=False).apply(lambda x: x.sample(sample_size_x,random_state=i,replace=True))\n",
    "    centroids=boot_df.groupby(topic)[column_x].mean()\n",
    "    values.append(spatial.distance.cosine(centroids[0], centroids[1]))\n",
    "  return np.percentile(values,[100*(1-confidence_x)/2,100*(1-(1-confidence_x)/2)])"
   ]
  },
  {
   "cell_type": "code",
   "execution_count": null,
   "metadata": {
    "colab": {
     "base_uri": "https://localhost:8080/"
    },
    "executionInfo": {
     "elapsed": 10795,
     "status": "ok",
     "timestamp": 1659062414598,
     "user": {
      "displayName": "Vahid the Great",
      "userId": "03498228001229341906"
     },
     "user_tz": -120
    },
    "id": "ecKs8kCAsGoj",
    "outputId": "e0f594da-ee21-4e5a-ddd5-992ccdf781d2"
   },
   "outputs": [
    {
     "data": {
      "text/plain": [
       "array([0.1616439 , 0.18288034])"
      ]
     },
     "execution_count": 21,
     "metadata": {},
     "output_type": "execute_result"
    },
    {
     "name": "stdout",
     "output_type": "stream",
     "text": [
      "time: 10.6 s (started: 2022-07-29 02:40:03 +00:00)\n"
     ]
    }
   ],
   "source": [
    "get_bootstrap_confidence_average(df_x = user_list_df_, column_x = 'average_embedding', confidence_x = 0.95, sample_size_x = 1500)"
   ]
  },
  {
   "cell_type": "markdown",
   "metadata": {
    "id": "A1xdh2eX-VYQ"
   },
   "source": [
    "# Variance Calculation"
   ]
  },
  {
   "cell_type": "code",
   "execution_count": null,
   "metadata": {
    "colab": {
     "base_uri": "https://localhost:8080/"
    },
    "executionInfo": {
     "elapsed": 246,
     "status": "ok",
     "timestamp": 1699293415898,
     "user": {
      "displayName": "VAHID GHAFOURI",
      "userId": "14892550568966913597"
     },
     "user_tz": -60
    },
    "id": "6mOoUkfUJyo-",
    "outputId": "09810e33-e0de-4565-c6e5-706761916a90"
   },
   "outputs": [
    {
     "name": "stdout",
     "output_type": "stream",
     "text": [
      "1.0\n",
      "time: 2.66 ms (started: 2023-11-06 17:56:55 +00:00)\n"
     ]
    }
   ],
   "source": [
    "# graph_colors_dict = {1:'blue',0:'red'}\n",
    "# name_dict = {1:'Chamber A',0:'Chamber B'}\n",
    "\n",
    "graph_colors_dict = {0:'blue',1:'red'}\n",
    "name_dict = {0:'Chamber A',1:'Chamber B'}\n",
    "graph_colors_dict = {'StandWithUkraine':'yellow','Pro-Gun':'red','Anti-Gun':'blue','Pro-Abortion':'deepskyblue','Anti-Abortion':'deeppink'}\n",
    "\n",
    "data = [[2,2],[0,0]]\n",
    "\n",
    "print(np.std(data,axis=0).mean())"
   ]
  },
  {
   "cell_type": "code",
   "execution_count": null,
   "metadata": {
    "colab": {
     "base_uri": "https://localhost:8080/"
    },
    "executionInfo": {
     "elapsed": 414,
     "status": "ok",
     "timestamp": 1699293417408,
     "user": {
      "displayName": "VAHID GHAFOURI",
      "userId": "14892550568966913597"
     },
     "user_tz": -60
    },
    "id": "wCzr9Knq3T_O",
    "outputId": "7b3656e4-1f9f-4053-f373-010313cc2f80"
   },
   "outputs": [
    {
     "name": "stdout",
     "output_type": "stream",
     "text": [
      "time: 1.08 ms (started: 2023-11-06 17:56:57 +00:00)\n"
     ]
    }
   ],
   "source": [
    "def get_bootstrap_confidence_variance(df_x, column_x, confidence_x, sample_size_x):\n",
    "  values = [np.var(list(df_x.sample(n=sample_size_x, random_state=i, replace=True)[column_x]),axis=0).mean() for i in range(1000)]\n",
    "  return np.percentile(values,[100*(1-confidence_x)/2,100*(1-(1-confidence_x)/2)])\n"
   ]
  },
  {
   "cell_type": "code",
   "execution_count": null,
   "metadata": {
    "colab": {
     "base_uri": "https://localhost:8080/",
     "height": 234
    },
    "executionInfo": {
     "elapsed": 8321,
     "status": "ok",
     "timestamp": 1699293445252,
     "user": {
      "displayName": "VAHID GHAFOURI",
      "userId": "14892550568966913597"
     },
     "user_tz": -60
    },
    "id": "qJd4AbN4GT3a",
    "outputId": "cbf3fb63-3992-4b23-89a4-7b567dc6b96a"
   },
   "outputs": [
    {
     "name": "stdout",
     "output_type": "stream",
     "text": [
      "std for 0 is:\n",
      "0.00014993799\n",
      "[0.00014175 0.00015675]\n",
      "std for 1 is:\n",
      "0.00019635439\n",
      "[0.00018954 0.00020341]\n"
     ]
    },
    {
     "data": {
      "text/html": [
       "\n",
       "  <div id=\"df-8733e521-921e-4d1d-83c9-c640822f8404\" class=\"colab-df-container\">\n",
       "    <div>\n",
       "<style scoped>\n",
       "    .dataframe tbody tr th:only-of-type {\n",
       "        vertical-align: middle;\n",
       "    }\n",
       "\n",
       "    .dataframe tbody tr th {\n",
       "        vertical-align: top;\n",
       "    }\n",
       "\n",
       "    .dataframe thead th {\n",
       "        text-align: right;\n",
       "    }\n",
       "</style>\n",
       "<table border=\"1\" class=\"dataframe\">\n",
       "  <thead>\n",
       "    <tr style=\"text-align: right;\">\n",
       "      <th></th>\n",
       "      <th>sxsw</th>\n",
       "      <th>LL</th>\n",
       "      <th>UL</th>\n",
       "      <th>mean</th>\n",
       "      <th>color</th>\n",
       "    </tr>\n",
       "  </thead>\n",
       "  <tbody>\n",
       "    <tr>\n",
       "      <th>0</th>\n",
       "      <td>0</td>\n",
       "      <td>0.000142</td>\n",
       "      <td>0.000157</td>\n",
       "      <td>0.000149</td>\n",
       "      <td>NaN</td>\n",
       "    </tr>\n",
       "    <tr>\n",
       "      <th>1</th>\n",
       "      <td>1</td>\n",
       "      <td>0.000190</td>\n",
       "      <td>0.000203</td>\n",
       "      <td>0.000196</td>\n",
       "      <td>NaN</td>\n",
       "    </tr>\n",
       "  </tbody>\n",
       "</table>\n",
       "</div>\n",
       "    <div class=\"colab-df-buttons\">\n",
       "\n",
       "  <div class=\"colab-df-container\">\n",
       "    <button class=\"colab-df-convert\" onclick=\"convertToInteractive('df-8733e521-921e-4d1d-83c9-c640822f8404')\"\n",
       "            title=\"Convert this dataframe to an interactive table.\"\n",
       "            style=\"display:none;\">\n",
       "\n",
       "  <svg xmlns=\"http://www.w3.org/2000/svg\" height=\"24px\" viewBox=\"0 -960 960 960\">\n",
       "    <path d=\"M120-120v-720h720v720H120Zm60-500h600v-160H180v160Zm220 220h160v-160H400v160Zm0 220h160v-160H400v160ZM180-400h160v-160H180v160Zm440 0h160v-160H620v160ZM180-180h160v-160H180v160Zm440 0h160v-160H620v160Z\"/>\n",
       "  </svg>\n",
       "    </button>\n",
       "\n",
       "  <style>\n",
       "    .colab-df-container {\n",
       "      display:flex;\n",
       "      gap: 12px;\n",
       "    }\n",
       "\n",
       "    .colab-df-convert {\n",
       "      background-color: #E8F0FE;\n",
       "      border: none;\n",
       "      border-radius: 50%;\n",
       "      cursor: pointer;\n",
       "      display: none;\n",
       "      fill: #1967D2;\n",
       "      height: 32px;\n",
       "      padding: 0 0 0 0;\n",
       "      width: 32px;\n",
       "    }\n",
       "\n",
       "    .colab-df-convert:hover {\n",
       "      background-color: #E2EBFA;\n",
       "      box-shadow: 0px 1px 2px rgba(60, 64, 67, 0.3), 0px 1px 3px 1px rgba(60, 64, 67, 0.15);\n",
       "      fill: #174EA6;\n",
       "    }\n",
       "\n",
       "    .colab-df-buttons div {\n",
       "      margin-bottom: 4px;\n",
       "    }\n",
       "\n",
       "    [theme=dark] .colab-df-convert {\n",
       "      background-color: #3B4455;\n",
       "      fill: #D2E3FC;\n",
       "    }\n",
       "\n",
       "    [theme=dark] .colab-df-convert:hover {\n",
       "      background-color: #434B5C;\n",
       "      box-shadow: 0px 1px 3px 1px rgba(0, 0, 0, 0.15);\n",
       "      filter: drop-shadow(0px 1px 2px rgba(0, 0, 0, 0.3));\n",
       "      fill: #FFFFFF;\n",
       "    }\n",
       "  </style>\n",
       "\n",
       "    <script>\n",
       "      const buttonEl =\n",
       "        document.querySelector('#df-8733e521-921e-4d1d-83c9-c640822f8404 button.colab-df-convert');\n",
       "      buttonEl.style.display =\n",
       "        google.colab.kernel.accessAllowed ? 'block' : 'none';\n",
       "\n",
       "      async function convertToInteractive(key) {\n",
       "        const element = document.querySelector('#df-8733e521-921e-4d1d-83c9-c640822f8404');\n",
       "        const dataTable =\n",
       "          await google.colab.kernel.invokeFunction('convertToInteractive',\n",
       "                                                    [key], {});\n",
       "        if (!dataTable) return;\n",
       "\n",
       "        const docLinkHtml = 'Like what you see? Visit the ' +\n",
       "          '<a target=\"_blank\" href=https://colab.research.google.com/notebooks/data_table.ipynb>data table notebook</a>'\n",
       "          + ' to learn more about interactive tables.';\n",
       "        element.innerHTML = '';\n",
       "        dataTable['output_type'] = 'display_data';\n",
       "        await google.colab.output.renderOutput(dataTable, element);\n",
       "        const docLink = document.createElement('div');\n",
       "        docLink.innerHTML = docLinkHtml;\n",
       "        element.appendChild(docLink);\n",
       "      }\n",
       "    </script>\n",
       "  </div>\n",
       "\n",
       "\n",
       "<div id=\"df-2e5e2316-cae4-4e3e-ac4b-82113a683903\">\n",
       "  <button class=\"colab-df-quickchart\" onclick=\"quickchart('df-2e5e2316-cae4-4e3e-ac4b-82113a683903')\"\n",
       "            title=\"Suggest charts.\"\n",
       "            style=\"display:none;\">\n",
       "\n",
       "<svg xmlns=\"http://www.w3.org/2000/svg\" height=\"24px\"viewBox=\"0 0 24 24\"\n",
       "     width=\"24px\">\n",
       "    <g>\n",
       "        <path d=\"M19 3H5c-1.1 0-2 .9-2 2v14c0 1.1.9 2 2 2h14c1.1 0 2-.9 2-2V5c0-1.1-.9-2-2-2zM9 17H7v-7h2v7zm4 0h-2V7h2v10zm4 0h-2v-4h2v4z\"/>\n",
       "    </g>\n",
       "</svg>\n",
       "  </button>\n",
       "\n",
       "<style>\n",
       "  .colab-df-quickchart {\n",
       "      --bg-color: #E8F0FE;\n",
       "      --fill-color: #1967D2;\n",
       "      --hover-bg-color: #E2EBFA;\n",
       "      --hover-fill-color: #174EA6;\n",
       "      --disabled-fill-color: #AAA;\n",
       "      --disabled-bg-color: #DDD;\n",
       "  }\n",
       "\n",
       "  [theme=dark] .colab-df-quickchart {\n",
       "      --bg-color: #3B4455;\n",
       "      --fill-color: #D2E3FC;\n",
       "      --hover-bg-color: #434B5C;\n",
       "      --hover-fill-color: #FFFFFF;\n",
       "      --disabled-bg-color: #3B4455;\n",
       "      --disabled-fill-color: #666;\n",
       "  }\n",
       "\n",
       "  .colab-df-quickchart {\n",
       "    background-color: var(--bg-color);\n",
       "    border: none;\n",
       "    border-radius: 50%;\n",
       "    cursor: pointer;\n",
       "    display: none;\n",
       "    fill: var(--fill-color);\n",
       "    height: 32px;\n",
       "    padding: 0;\n",
       "    width: 32px;\n",
       "  }\n",
       "\n",
       "  .colab-df-quickchart:hover {\n",
       "    background-color: var(--hover-bg-color);\n",
       "    box-shadow: 0 1px 2px rgba(60, 64, 67, 0.3), 0 1px 3px 1px rgba(60, 64, 67, 0.15);\n",
       "    fill: var(--button-hover-fill-color);\n",
       "  }\n",
       "\n",
       "  .colab-df-quickchart-complete:disabled,\n",
       "  .colab-df-quickchart-complete:disabled:hover {\n",
       "    background-color: var(--disabled-bg-color);\n",
       "    fill: var(--disabled-fill-color);\n",
       "    box-shadow: none;\n",
       "  }\n",
       "\n",
       "  .colab-df-spinner {\n",
       "    border: 2px solid var(--fill-color);\n",
       "    border-color: transparent;\n",
       "    border-bottom-color: var(--fill-color);\n",
       "    animation:\n",
       "      spin 1s steps(1) infinite;\n",
       "  }\n",
       "\n",
       "  @keyframes spin {\n",
       "    0% {\n",
       "      border-color: transparent;\n",
       "      border-bottom-color: var(--fill-color);\n",
       "      border-left-color: var(--fill-color);\n",
       "    }\n",
       "    20% {\n",
       "      border-color: transparent;\n",
       "      border-left-color: var(--fill-color);\n",
       "      border-top-color: var(--fill-color);\n",
       "    }\n",
       "    30% {\n",
       "      border-color: transparent;\n",
       "      border-left-color: var(--fill-color);\n",
       "      border-top-color: var(--fill-color);\n",
       "      border-right-color: var(--fill-color);\n",
       "    }\n",
       "    40% {\n",
       "      border-color: transparent;\n",
       "      border-right-color: var(--fill-color);\n",
       "      border-top-color: var(--fill-color);\n",
       "    }\n",
       "    60% {\n",
       "      border-color: transparent;\n",
       "      border-right-color: var(--fill-color);\n",
       "    }\n",
       "    80% {\n",
       "      border-color: transparent;\n",
       "      border-right-color: var(--fill-color);\n",
       "      border-bottom-color: var(--fill-color);\n",
       "    }\n",
       "    90% {\n",
       "      border-color: transparent;\n",
       "      border-bottom-color: var(--fill-color);\n",
       "    }\n",
       "  }\n",
       "</style>\n",
       "\n",
       "  <script>\n",
       "    async function quickchart(key) {\n",
       "      const quickchartButtonEl =\n",
       "        document.querySelector('#' + key + ' button');\n",
       "      quickchartButtonEl.disabled = true;  // To prevent multiple clicks.\n",
       "      quickchartButtonEl.classList.add('colab-df-spinner');\n",
       "      try {\n",
       "        const charts = await google.colab.kernel.invokeFunction(\n",
       "            'suggestCharts', [key], {});\n",
       "      } catch (error) {\n",
       "        console.error('Error during call to suggestCharts:', error);\n",
       "      }\n",
       "      quickchartButtonEl.classList.remove('colab-df-spinner');\n",
       "      quickchartButtonEl.classList.add('colab-df-quickchart-complete');\n",
       "    }\n",
       "    (() => {\n",
       "      let quickchartButtonEl =\n",
       "        document.querySelector('#df-2e5e2316-cae4-4e3e-ac4b-82113a683903 button');\n",
       "      quickchartButtonEl.style.display =\n",
       "        google.colab.kernel.accessAllowed ? 'block' : 'none';\n",
       "    })();\n",
       "  </script>\n",
       "</div>\n",
       "    </div>\n",
       "  </div>\n"
      ],
      "text/plain": [
       "   sxsw        LL        UL      mean color\n",
       "0     0  0.000142  0.000157  0.000149   NaN\n",
       "1     1  0.000190  0.000203  0.000196   NaN"
      ]
     },
     "execution_count": 9,
     "metadata": {},
     "output_type": "execute_result"
    },
    {
     "name": "stdout",
     "output_type": "stream",
     "text": [
      "time: 8.03 s (started: 2023-11-06 17:57:17 +00:00)\n"
     ]
    }
   ],
   "source": [
    "group_column = topic\n",
    "# group_column = 'hashtag'\n",
    "\n",
    "CIs={}\n",
    "for hashtag_x in list(set(user_list_df_[group_column])):\n",
    "  print(f'std for {hashtag_x} is:')\n",
    "  data = user_list_df_[user_list_df_[group_column]==hashtag_x]\n",
    "  print(np.var(list(user_list_df_[user_list_df_[group_column]==hashtag_x]['average_embedding']),axis=0).mean())\n",
    "  CI_x = get_bootstrap_confidence_variance(df_x = data, column_x = 'average_embedding', confidence_x = 0.95, sample_size_x =700)\n",
    "  CIs.update({hashtag_x:CI_x})\n",
    "  print(CI_x)\n",
    "\n",
    "CIs = pd.DataFrame.from_dict(CIs).T.reset_index().rename({'index':group_column,0:'LL',1:'UL'},axis=1)\n",
    "CIs['mean'] = (CIs['LL']+CIs['UL'])/2\n",
    "CIs['color']=CIs[group_column].map(graph_colors_dict)\n",
    "CIs"
   ]
  },
  {
   "cell_type": "code",
   "execution_count": null,
   "metadata": {
    "colab": {
     "base_uri": "https://localhost:8080/",
     "height": 222
    },
    "executionInfo": {
     "elapsed": 2843,
     "status": "ok",
     "timestamp": 1659699505099,
     "user": {
      "displayName": "Vahid the Great",
      "userId": "03498228001229341906"
     },
     "user_tz": -120
    },
    "id": "C4doabDP-TMd",
    "outputId": "33b49b84-e755-4175-9183-ef56fcc99e79"
   },
   "outputs": [
    {
     "data": {
      "image/png": "[encoded data removed]",
      "text/plain": [
       "<Figure size 576x180 with 1 Axes>"
      ]
     },
     "metadata": {
      "needs_background": "light"
     },
     "output_type": "display_data"
    },
    {
     "name": "stdout",
     "output_type": "stream",
     "text": [
      "time: 2.57 s (started: 2022-08-05 11:38:21 +00:00)\n"
     ]
    }
   ],
   "source": [
    "import matplotlib.pyplot as plt\n",
    "y_dummy_dict = {'StandWithUkraine':3,'Pro-Gun':2,'Anti-Gun':4,'Pro-Abortion':5,'Anti-Abortion':1}\n",
    "# y_dummy=list(range(1,len(CIs.keys())+1))\n",
    "CIs['y_dummy']=CIs[group_column].map(y_dummy_dict)\n",
    "plt.figure(figsize=(8,2.5))\n",
    "plt.tick_params(left = False)\n",
    "ax = plt.gca()\n",
    "for i, txt in enumerate(CIs[group_column]):\n",
    "    ax.errorbar(x=CIs['mean'][i]*100000, y = CIs['y_dummy'][i], xerr=(CIs['mean'][i]-CIs['LL'][i])*100000,markersize='4',capsize=4, elinewidth=2, yerr=None, fmt='o',color='none',ecolor=CIs['color'][i])#,markerfacecolor=CIs['color'],markeredgecolor=CIs['color'], color=CIs['color'])\n",
    "    ax.annotate(txt, ((CIs['mean'][i]-0.0000007*len(txt))*100000, CIs['y_dummy'][i]+0.2),rotation=0)#,color=CIs['color'][i])\n",
    "plt.ylim(-0.00,6)\n",
    "plt.xlim(0,12)\n",
    "ax.axes.yaxis.set_ticklabels([])\n",
    "# ax.axes.xaxis.set_ticklabels([])\n",
    "# plt.ylabel('Toxicity Level',fontsize=25, color='darkgreen')\n",
    "plt.title('Diversity of Users per Hashtag',fontsize=20)\n",
    "plt.savefig(my_dir+\"Charts/HashtagUsers_variance\"+\".png\", bbox_inches = 'tight',format=\"png\", dpi=650)"
   ]
  }
 ],
 "metadata": {
  "colab": {
   "provenance": []
  },
  "gpuClass": "standard",
  "kernelspec": {
   "display_name": "Python 3",
   "language": "python",
   "name": "python3"
  },
  "language_info": {
   "codemirror_mode": {
    "name": "ipython",
    "version": 3
   },
   "file_extension": ".py",
   "mimetype": "text/x-python",
   "name": "python",
   "nbconvert_exporter": "python",
   "pygments_lexer": "ipython3",
   "version": "3.8.8"
  },
  "widgets": {
   "application/vnd.jupyter.widget-state+json": {
    "0e4e835f5bf94de2934900efc6adffe7": {
     "model_module": "@jupyter-widgets/controls",
     "model_module_version": "1.5.0",
     "model_name": "HBoxModel",
     "state": {
      "_dom_classes": [],
      "_model_module": "@jupyter-widgets/controls",
      "_model_module_version": "1.5.0",
      "_model_name": "HBoxModel",
      "_view_count": null,
      "_view_module": "@jupyter-widgets/controls",
      "_view_module_version": "1.5.0",
      "_view_name": "HBoxView",
      "box_style": "",
      "children": [
       "IPY_MODEL_29246877f29944a9892b2736d6c8525c",
       "IPY_MODEL_c3ba0862e0974f3996579348401a1c12",
       "IPY_MODEL_a86223adeedf4590b06c70549382f578"
      ],
      "layout": "IPY_MODEL_bc84c0795e3c4aeface0657e227e47e5"
     }
    },
    "20a09180dafb4ec8a7d3eab383d72f21": {
     "model_module": "@jupyter-widgets/controls",
     "model_module_version": "1.5.0",
     "model_name": "DescriptionStyleModel",
     "state": {
      "_model_module": "@jupyter-widgets/controls",
      "_model_module_version": "1.5.0",
      "_model_name": "DescriptionStyleModel",
      "_view_count": null,
      "_view_module": "@jupyter-widgets/base",
      "_view_module_version": "1.2.0",
      "_view_name": "StyleView",
      "description_width": ""
     }
    },
    "29246877f29944a9892b2736d6c8525c": {
     "model_module": "@jupyter-widgets/controls",
     "model_module_version": "1.5.0",
     "model_name": "HTMLModel",
     "state": {
      "_dom_classes": [],
      "_model_module": "@jupyter-widgets/controls",
      "_model_module_version": "1.5.0",
      "_model_name": "HTMLModel",
      "_view_count": null,
      "_view_module": "@jupyter-widgets/controls",
      "_view_module_version": "1.5.0",
      "_view_name": "HTMLView",
      "description": "",
      "description_tooltip": null,
      "layout": "IPY_MODEL_c75a10b5b05c4ce9ae6ee5e292106261",
      "placeholder": "​",
      "style": "IPY_MODEL_20a09180dafb4ec8a7d3eab383d72f21",
      "value": "Epochs completed: 100%| "
     }
    },
    "2936ae029b144e759616ba7596c2eb7a": {
     "model_module": "@jupyter-widgets/controls",
     "model_module_version": "1.5.0",
     "model_name": "DescriptionStyleModel",
     "state": {
      "_model_module": "@jupyter-widgets/controls",
      "_model_module_version": "1.5.0",
      "_model_name": "DescriptionStyleModel",
      "_view_count": null,
      "_view_module": "@jupyter-widgets/base",
      "_view_module_version": "1.2.0",
      "_view_name": "StyleView",
      "description_width": ""
     }
    },
    "2f87c6f8062d439cbe21d993cce8e5e4": {
     "model_module": "@jupyter-widgets/base",
     "model_module_version": "1.2.0",
     "model_name": "LayoutModel",
     "state": {
      "_model_module": "@jupyter-widgets/base",
      "_model_module_version": "1.2.0",
      "_model_name": "LayoutModel",
      "_view_count": null,
      "_view_module": "@jupyter-widgets/base",
      "_view_module_version": "1.2.0",
      "_view_name": "LayoutView",
      "align_content": null,
      "align_items": null,
      "align_self": null,
      "border": null,
      "bottom": null,
      "display": null,
      "flex": null,
      "flex_flow": null,
      "grid_area": null,
      "grid_auto_columns": null,
      "grid_auto_flow": null,
      "grid_auto_rows": null,
      "grid_column": null,
      "grid_gap": null,
      "grid_row": null,
      "grid_template_areas": null,
      "grid_template_columns": null,
      "grid_template_rows": null,
      "height": null,
      "justify_content": null,
      "justify_items": null,
      "left": null,
      "margin": null,
      "max_height": null,
      "max_width": null,
      "min_height": null,
      "min_width": null,
      "object_fit": null,
      "object_position": null,
      "order": null,
      "overflow": null,
      "overflow_x": null,
      "overflow_y": null,
      "padding": null,
      "right": null,
      "top": null,
      "visibility": null,
      "width": null
     }
    },
    "460c04213f78479eb127eb411c9fbc1a": {
     "model_module": "@jupyter-widgets/controls",
     "model_module_version": "1.5.0",
     "model_name": "HTMLModel",
     "state": {
      "_dom_classes": [],
      "_model_module": "@jupyter-widgets/controls",
      "_model_module_version": "1.5.0",
      "_model_name": "HTMLModel",
      "_view_count": null,
      "_view_module": "@jupyter-widgets/controls",
      "_view_module_version": "1.5.0",
      "_view_name": "HTMLView",
      "description": "",
      "description_tooltip": null,
      "layout": "IPY_MODEL_8a6b80d3094a46398ff6f664aa12a74d",
      "placeholder": "​",
      "style": "IPY_MODEL_9912e08c1cc543169b6a9cf0414ae8e1",
      "value": " 500/500 [00:03]"
     }
    },
    "5f30d9fa36d64a0387176f4eb93a32c0": {
     "model_module": "@jupyter-widgets/controls",
     "model_module_version": "1.5.0",
     "model_name": "ProgressStyleModel",
     "state": {
      "_model_module": "@jupyter-widgets/controls",
      "_model_module_version": "1.5.0",
      "_model_name": "ProgressStyleModel",
      "_view_count": null,
      "_view_module": "@jupyter-widgets/base",
      "_view_module_version": "1.2.0",
      "_view_name": "StyleView",
      "bar_color": null,
      "description_width": ""
     }
    },
    "60086498ceaa4237bf47773e5b594005": {
     "model_module": "@jupyter-widgets/controls",
     "model_module_version": "1.5.0",
     "model_name": "ProgressStyleModel",
     "state": {
      "_model_module": "@jupyter-widgets/controls",
      "_model_module_version": "1.5.0",
      "_model_name": "ProgressStyleModel",
      "_view_count": null,
      "_view_module": "@jupyter-widgets/base",
      "_view_module_version": "1.2.0",
      "_view_name": "StyleView",
      "bar_color": null,
      "description_width": ""
     }
    },
    "61b69f01965341b89c61053f808034b8": {
     "model_module": "@jupyter-widgets/base",
     "model_module_version": "1.2.0",
     "model_name": "LayoutModel",
     "state": {
      "_model_module": "@jupyter-widgets/base",
      "_model_module_version": "1.2.0",
      "_model_name": "LayoutModel",
      "_view_count": null,
      "_view_module": "@jupyter-widgets/base",
      "_view_module_version": "1.2.0",
      "_view_name": "LayoutView",
      "align_content": null,
      "align_items": null,
      "align_self": null,
      "border": null,
      "bottom": null,
      "display": null,
      "flex": null,
      "flex_flow": null,
      "grid_area": null,
      "grid_auto_columns": null,
      "grid_auto_flow": null,
      "grid_auto_rows": null,
      "grid_column": null,
      "grid_gap": null,
      "grid_row": null,
      "grid_template_areas": null,
      "grid_template_columns": null,
      "grid_template_rows": null,
      "height": null,
      "justify_content": null,
      "justify_items": null,
      "left": null,
      "margin": null,
      "max_height": null,
      "max_width": null,
      "min_height": null,
      "min_width": null,
      "object_fit": null,
      "object_position": null,
      "order": null,
      "overflow": null,
      "overflow_x": null,
      "overflow_y": null,
      "padding": null,
      "right": null,
      "top": null,
      "visibility": null,
      "width": null
     }
    },
    "737818b8f93546ca953f4d6190bf8cdb": {
     "model_module": "@jupyter-widgets/base",
     "model_module_version": "1.2.0",
     "model_name": "LayoutModel",
     "state": {
      "_model_module": "@jupyter-widgets/base",
      "_model_module_version": "1.2.0",
      "_model_name": "LayoutModel",
      "_view_count": null,
      "_view_module": "@jupyter-widgets/base",
      "_view_module_version": "1.2.0",
      "_view_name": "LayoutView",
      "align_content": null,
      "align_items": null,
      "align_self": null,
      "border": null,
      "bottom": null,
      "display": null,
      "flex": null,
      "flex_flow": null,
      "grid_area": null,
      "grid_auto_columns": null,
      "grid_auto_flow": null,
      "grid_auto_rows": null,
      "grid_column": null,
      "grid_gap": null,
      "grid_row": null,
      "grid_template_areas": null,
      "grid_template_columns": null,
      "grid_template_rows": null,
      "height": null,
      "justify_content": null,
      "justify_items": null,
      "left": null,
      "margin": null,
      "max_height": null,
      "max_width": null,
      "min_height": null,
      "min_width": null,
      "object_fit": null,
      "object_position": null,
      "order": null,
      "overflow": null,
      "overflow_x": null,
      "overflow_y": null,
      "padding": null,
      "right": null,
      "top": null,
      "visibility": null,
      "width": null
     }
    },
    "7c59ea93e231466593358bd4133b34fb": {
     "model_module": "@jupyter-widgets/controls",
     "model_module_version": "1.5.0",
     "model_name": "HBoxModel",
     "state": {
      "_dom_classes": [],
      "_model_module": "@jupyter-widgets/controls",
      "_model_module_version": "1.5.0",
      "_model_name": "HBoxModel",
      "_view_count": null,
      "_view_module": "@jupyter-widgets/controls",
      "_view_module_version": "1.5.0",
      "_view_name": "HBoxView",
      "box_style": "",
      "children": [
       "IPY_MODEL_a9968b2cf0264600b42cd988784641dd",
       "IPY_MODEL_b28e46db8cd44446a187bddd14856f80",
       "IPY_MODEL_460c04213f78479eb127eb411c9fbc1a"
      ],
      "layout": "IPY_MODEL_737818b8f93546ca953f4d6190bf8cdb"
     }
    },
    "8a6b80d3094a46398ff6f664aa12a74d": {
     "model_module": "@jupyter-widgets/base",
     "model_module_version": "1.2.0",
     "model_name": "LayoutModel",
     "state": {
      "_model_module": "@jupyter-widgets/base",
      "_model_module_version": "1.2.0",
      "_model_name": "LayoutModel",
      "_view_count": null,
      "_view_module": "@jupyter-widgets/base",
      "_view_module_version": "1.2.0",
      "_view_name": "LayoutView",
      "align_content": null,
      "align_items": null,
      "align_self": null,
      "border": null,
      "bottom": null,
      "display": null,
      "flex": null,
      "flex_flow": null,
      "grid_area": null,
      "grid_auto_columns": null,
      "grid_auto_flow": null,
      "grid_auto_rows": null,
      "grid_column": null,
      "grid_gap": null,
      "grid_row": null,
      "grid_template_areas": null,
      "grid_template_columns": null,
      "grid_template_rows": null,
      "height": null,
      "justify_content": null,
      "justify_items": null,
      "left": null,
      "margin": null,
      "max_height": null,
      "max_width": null,
      "min_height": null,
      "min_width": null,
      "object_fit": null,
      "object_position": null,
      "order": null,
      "overflow": null,
      "overflow_x": null,
      "overflow_y": null,
      "padding": null,
      "right": null,
      "top": null,
      "visibility": null,
      "width": null
     }
    },
    "9912e08c1cc543169b6a9cf0414ae8e1": {
     "model_module": "@jupyter-widgets/controls",
     "model_module_version": "1.5.0",
     "model_name": "DescriptionStyleModel",
     "state": {
      "_model_module": "@jupyter-widgets/controls",
      "_model_module_version": "1.5.0",
      "_model_name": "DescriptionStyleModel",
      "_view_count": null,
      "_view_module": "@jupyter-widgets/base",
      "_view_module_version": "1.2.0",
      "_view_name": "StyleView",
      "description_width": ""
     }
    },
    "a86223adeedf4590b06c70549382f578": {
     "model_module": "@jupyter-widgets/controls",
     "model_module_version": "1.5.0",
     "model_name": "HTMLModel",
     "state": {
      "_dom_classes": [],
      "_model_module": "@jupyter-widgets/controls",
      "_model_module_version": "1.5.0",
      "_model_name": "HTMLModel",
      "_view_count": null,
      "_view_module": "@jupyter-widgets/controls",
      "_view_module_version": "1.5.0",
      "_view_name": "HTMLView",
      "description": "",
      "description_tooltip": null,
      "layout": "IPY_MODEL_61b69f01965341b89c61053f808034b8",
      "placeholder": "​",
      "style": "IPY_MODEL_be8ca97fd7314f128891665d1ceb4f85",
      "value": " 100/100 [00:01]"
     }
    },
    "a9968b2cf0264600b42cd988784641dd": {
     "model_module": "@jupyter-widgets/controls",
     "model_module_version": "1.5.0",
     "model_name": "HTMLModel",
     "state": {
      "_dom_classes": [],
      "_model_module": "@jupyter-widgets/controls",
      "_model_module_version": "1.5.0",
      "_model_name": "HTMLModel",
      "_view_count": null,
      "_view_module": "@jupyter-widgets/controls",
      "_view_module_version": "1.5.0",
      "_view_name": "HTMLView",
      "description": "",
      "description_tooltip": null,
      "layout": "IPY_MODEL_f9405bb70440479797e4ea4c6902b4e4",
      "placeholder": "​",
      "style": "IPY_MODEL_2936ae029b144e759616ba7596c2eb7a",
      "value": "Epochs completed: 100%| "
     }
    },
    "b28e46db8cd44446a187bddd14856f80": {
     "model_module": "@jupyter-widgets/controls",
     "model_module_version": "1.5.0",
     "model_name": "FloatProgressModel",
     "state": {
      "_dom_classes": [],
      "_model_module": "@jupyter-widgets/controls",
      "_model_module_version": "1.5.0",
      "_model_name": "FloatProgressModel",
      "_view_count": null,
      "_view_module": "@jupyter-widgets/controls",
      "_view_module_version": "1.5.0",
      "_view_name": "ProgressView",
      "bar_style": "success",
      "description": "",
      "description_tooltip": null,
      "layout": "IPY_MODEL_2f87c6f8062d439cbe21d993cce8e5e4",
      "max": 500,
      "min": 0,
      "orientation": "horizontal",
      "style": "IPY_MODEL_5f30d9fa36d64a0387176f4eb93a32c0",
      "value": 500
     }
    },
    "bc84c0795e3c4aeface0657e227e47e5": {
     "model_module": "@jupyter-widgets/base",
     "model_module_version": "1.2.0",
     "model_name": "LayoutModel",
     "state": {
      "_model_module": "@jupyter-widgets/base",
      "_model_module_version": "1.2.0",
      "_model_name": "LayoutModel",
      "_view_count": null,
      "_view_module": "@jupyter-widgets/base",
      "_view_module_version": "1.2.0",
      "_view_name": "LayoutView",
      "align_content": null,
      "align_items": null,
      "align_self": null,
      "border": null,
      "bottom": null,
      "display": null,
      "flex": null,
      "flex_flow": null,
      "grid_area": null,
      "grid_auto_columns": null,
      "grid_auto_flow": null,
      "grid_auto_rows": null,
      "grid_column": null,
      "grid_gap": null,
      "grid_row": null,
      "grid_template_areas": null,
      "grid_template_columns": null,
      "grid_template_rows": null,
      "height": null,
      "justify_content": null,
      "justify_items": null,
      "left": null,
      "margin": null,
      "max_height": null,
      "max_width": null,
      "min_height": null,
      "min_width": null,
      "object_fit": null,
      "object_position": null,
      "order": null,
      "overflow": null,
      "overflow_x": null,
      "overflow_y": null,
      "padding": null,
      "right": null,
      "top": null,
      "visibility": null,
      "width": null
     }
    },
    "be8ca97fd7314f128891665d1ceb4f85": {
     "model_module": "@jupyter-widgets/controls",
     "model_module_version": "1.5.0",
     "model_name": "DescriptionStyleModel",
     "state": {
      "_model_module": "@jupyter-widgets/controls",
      "_model_module_version": "1.5.0",
      "_model_name": "DescriptionStyleModel",
      "_view_count": null,
      "_view_module": "@jupyter-widgets/base",
      "_view_module_version": "1.2.0",
      "_view_name": "StyleView",
      "description_width": ""
     }
    },
    "c3ba0862e0974f3996579348401a1c12": {
     "model_module": "@jupyter-widgets/controls",
     "model_module_version": "1.5.0",
     "model_name": "FloatProgressModel",
     "state": {
      "_dom_classes": [],
      "_model_module": "@jupyter-widgets/controls",
      "_model_module_version": "1.5.0",
      "_model_name": "FloatProgressModel",
      "_view_count": null,
      "_view_module": "@jupyter-widgets/controls",
      "_view_module_version": "1.5.0",
      "_view_name": "ProgressView",
      "bar_style": "success",
      "description": "",
      "description_tooltip": null,
      "layout": "IPY_MODEL_f596f39794e34153864b62318106b40c",
      "max": 100,
      "min": 0,
      "orientation": "horizontal",
      "style": "IPY_MODEL_60086498ceaa4237bf47773e5b594005",
      "value": 100
     }
    },
    "c75a10b5b05c4ce9ae6ee5e292106261": {
     "model_module": "@jupyter-widgets/base",
     "model_module_version": "1.2.0",
     "model_name": "LayoutModel",
     "state": {
      "_model_module": "@jupyter-widgets/base",
      "_model_module_version": "1.2.0",
      "_model_name": "LayoutModel",
      "_view_count": null,
      "_view_module": "@jupyter-widgets/base",
      "_view_module_version": "1.2.0",
      "_view_name": "LayoutView",
      "align_content": null,
      "align_items": null,
      "align_self": null,
      "border": null,
      "bottom": null,
      "display": null,
      "flex": null,
      "flex_flow": null,
      "grid_area": null,
      "grid_auto_columns": null,
      "grid_auto_flow": null,
      "grid_auto_rows": null,
      "grid_column": null,
      "grid_gap": null,
      "grid_row": null,
      "grid_template_areas": null,
      "grid_template_columns": null,
      "grid_template_rows": null,
      "height": null,
      "justify_content": null,
      "justify_items": null,
      "left": null,
      "margin": null,
      "max_height": null,
      "max_width": null,
      "min_height": null,
      "min_width": null,
      "object_fit": null,
      "object_position": null,
      "order": null,
      "overflow": null,
      "overflow_x": null,
      "overflow_y": null,
      "padding": null,
      "right": null,
      "top": null,
      "visibility": null,
      "width": null
     }
    },
    "f596f39794e34153864b62318106b40c": {
     "model_module": "@jupyter-widgets/base",
     "model_module_version": "1.2.0",
     "model_name": "LayoutModel",
     "state": {
      "_model_module": "@jupyter-widgets/base",
      "_model_module_version": "1.2.0",
      "_model_name": "LayoutModel",
      "_view_count": null,
      "_view_module": "@jupyter-widgets/base",
      "_view_module_version": "1.2.0",
      "_view_name": "LayoutView",
      "align_content": null,
      "align_items": null,
      "align_self": null,
      "border": null,
      "bottom": null,
      "display": null,
      "flex": null,
      "flex_flow": null,
      "grid_area": null,
      "grid_auto_columns": null,
      "grid_auto_flow": null,
      "grid_auto_rows": null,
      "grid_column": null,
      "grid_gap": null,
      "grid_row": null,
      "grid_template_areas": null,
      "grid_template_columns": null,
      "grid_template_rows": null,
      "height": null,
      "justify_content": null,
      "justify_items": null,
      "left": null,
      "margin": null,
      "max_height": null,
      "max_width": null,
      "min_height": null,
      "min_width": null,
      "object_fit": null,
      "object_position": null,
      "order": null,
      "overflow": null,
      "overflow_x": null,
      "overflow_y": null,
      "padding": null,
      "right": null,
      "top": null,
      "visibility": null,
      "width": null
     }
    },
    "f9405bb70440479797e4ea4c6902b4e4": {
     "model_module": "@jupyter-widgets/base",
     "model_module_version": "1.2.0",
     "model_name": "LayoutModel",
     "state": {
      "_model_module": "@jupyter-widgets/base",
      "_model_module_version": "1.2.0",
      "_model_name": "LayoutModel",
      "_view_count": null,
      "_view_module": "@jupyter-widgets/base",
      "_view_module_version": "1.2.0",
      "_view_name": "LayoutView",
      "align_content": null,
      "align_items": null,
      "align_self": null,
      "border": null,
      "bottom": null,
      "display": null,
      "flex": null,
      "flex_flow": null,
      "grid_area": null,
      "grid_auto_columns": null,
      "grid_auto_flow": null,
      "grid_auto_rows": null,
      "grid_column": null,
      "grid_gap": null,
      "grid_row": null,
      "grid_template_areas": null,
      "grid_template_columns": null,
      "grid_template_rows": null,
      "height": null,
      "justify_content": null,
      "justify_items": null,
      "left": null,
      "margin": null,
      "max_height": null,
      "max_width": null,
      "min_height": null,
      "min_width": null,
      "object_fit": null,
      "object_position": null,
      "order": null,
      "overflow": null,
      "overflow_x": null,
      "overflow_y": null,
      "padding": null,
      "right": null,
      "top": null,
      "visibility": null,
      "width": null
     }
    }
   }
  }
 },
 "nbformat": 4,
 "nbformat_minor": 1
}
